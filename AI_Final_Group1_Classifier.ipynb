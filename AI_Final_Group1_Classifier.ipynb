{
  "nbformat": 4,
  "nbformat_minor": 0,
  "metadata": {
    "colab": {
      "name": "AI_Final_Group1_Classifier",
      "provenance": [],
      "private_outputs": true,
      "collapsed_sections": [],
      "toc_visible": true,
      "machine_shape": "hm"
    },
    "kernelspec": {
      "name": "python3",
      "display_name": "Python 3"
    },
    "accelerator": "GPU"
  },
  "cells": [
    {
      "cell_type": "markdown",
      "metadata": {
        "id": "787jmxZzvjFL",
        "colab_type": "text"
      },
      "source": [
        "## Mount Drive"
      ]
    },
    {
      "cell_type": "code",
      "metadata": {
        "id": "cLQL41vTx095",
        "colab_type": "code",
        "colab": {}
      },
      "source": [
        "from google.colab import drive\n",
        "drive.mount('/content/drive')"
      ],
      "execution_count": 0,
      "outputs": []
    },
    {
      "cell_type": "markdown",
      "metadata": {
        "id": "sur_Q2JNvqUE",
        "colab_type": "text"
      },
      "source": [
        "## Setting & Import"
      ]
    },
    {
      "cell_type": "code",
      "metadata": {
        "id": "bdRf2JtA7GxU",
        "colab_type": "code",
        "colab": {}
      },
      "source": [
        "!pip3 install h5py"
      ],
      "execution_count": 0,
      "outputs": []
    },
    {
      "cell_type": "code",
      "metadata": {
        "id": "htVK3YJ4SRLo",
        "colab_type": "code",
        "colab": {}
      },
      "source": [
        "#Classifier\n",
        "import os\n",
        "import ast\n",
        "import cv2 \n",
        "import csv\n",
        "import numpy as np \n",
        "import pandas as pd\n",
        "from glob import glob\n",
        "from tqdm import tqdm #used for progress bar\n",
        "from dask import bag  #a tool for accelerating data processing\n",
        "import tensorflow as tf\n",
        "import matplotlib.pyplot as plt\n",
        "import matplotlib.style as style\n",
        "from PIL import Image, ImageDraw  #PIL:python imaging library\n",
        "from tensorflow import keras\n",
        "from keras.models import load_model\n",
        "from tensorflow.keras.models import Sequential\n",
        "from tensorflow.keras.models import Model\n",
        "from tensorflow.keras.layers import *\n",
        "from tensorflow.keras.metrics import top_k_categorical_accuracy\n",
        "from tensorflow.keras.callbacks import ModelCheckpoint, ReduceLROnPlateau, EarlyStopping"
      ],
      "execution_count": 0,
      "outputs": []
    },
    {
      "cell_type": "markdown",
      "metadata": {
        "id": "U4RERyJ1zJbv",
        "colab_type": "text"
      },
      "source": [
        "## Definition"
      ]
    },
    {
      "cell_type": "code",
      "metadata": {
        "id": "xjyusnWt9iHm",
        "colab_type": "code",
        "colab": {}
      },
      "source": [
        "class_paths = glob('/content/drive/My Drive/input/train/*.csv')\n",
        "model_path = \"./drive/My Drive/output/model/classifier/classifier_W.h5\"\n",
        "final_csv_dir = \"./drive/My Drive/Final/output/csv/\"\n",
        "final_image_dir = \"./drive/My Drive/Final/output/image/\"\n",
        "csv_dir = \"./drive/My Drive/output/csv/\"\n",
        "image_dir = \"./drive/My Drive/output/image/\"\n",
        "\n",
        "num_classes = 30\n",
        "imheight, imwidth = 64, 64\n",
        "ims_per_class = 13000\n",
        "\n",
        "numstonames = {i: v[36:-4].replace(\" \", \"_\") for i, v in enumerate(class_paths)}\n",
        "print(numstonames)\n",
        "namestonums = {v:k for k,v in numstonames.items()}\n",
        "\n",
        "def draw_it(strokes):\n",
        "  image = Image.new(\"P\", (256,256), color=255)\n",
        "  image_draw = ImageDraw.Draw(image)\n",
        "  for stroke in ast.literal_eval(strokes):\n",
        "    for i in range(len(stroke[0])-1): #number of positions , since # of x_coordinates = # of y_coordinates , just loop all x coordinates \n",
        "      image_draw.line([stroke[0][i],  #numeric values like [x, y, x, y, ...] \n",
        "                       stroke[1][i],\n",
        "                       stroke[0][i+1], \n",
        "                       stroke[1][i+1]],\n",
        "                       fill=0, width=5) #Color to use for the point\n",
        "  image = image.resize((imheight, imwidth))\n",
        "  return np.array(image)/255.\n",
        "\n",
        "def top_3_accuracy(x,y): \n",
        "    t3 = top_k_categorical_accuracy(x,y, 3)\n",
        "    return t3\n",
        "\n",
        "def csvWriter(file_name, nparray):\n",
        "  example = nparray.tolist()\n",
        "  with open(file_name+'.csv', 'w', newline='') as csvfile:\n",
        "     writer = csv.writer(csvfile, delimiter=',')\n",
        "     writer.writerows(example)\n",
        "\n",
        "def save_images(grapharray, save_index):\n",
        "  grapharray = np.reshape(grapharray, (64, 64))\n",
        "  plt.figure(figsize=(16, 16))\n",
        "  plt.imshow(grapharray, interpolation='nearest', cmap='gray_r')\n",
        "  plt.axis('off')\n",
        "  plt.savefig(image_dir + image_label + \"/\" + image_label + \"_{:04d}.png\".format(save_index) )\n",
        "  csvWriter(csv_dir + image_label + \"/\" + image_label + \"_{:04d}\".format(save_index), grapharray)\n"
      ],
      "execution_count": 0,
      "outputs": []
    },
    {
      "cell_type": "markdown",
      "metadata": {
        "id": "AlTNI7KfxUFn",
        "colab_type": "text"
      },
      "source": [
        "#Data Prepocessing"
      ]
    },
    {
      "cell_type": "code",
      "metadata": {
        "id": "bEy7z4cRdyOR",
        "colab_type": "code",
        "colab": {}
      },
      "source": [
        "train_grand = []\n",
        "\n",
        "for i,path in enumerate(tqdm(class_paths[0: num_classes])):\n",
        "    train = pd.read_csv(path, nrows=ims_per_class)  #nrows:number of rows that needs to read , returns a dataframe\n",
        "    imagebag = bag.from_sequence(train.drawing.values).map(draw_it) #index[0][i]:x-axis;index[1][i]:y-axis , they are passed arg \n",
        "    trainarray = np.array(imagebag.compute()) #convert a Dask bag to a list or Python iterable by calling compute()\n",
        "    trainarray = np.reshape(trainarray, (ims_per_class, -1))   \n",
        "    labelarray = np.full((train.shape[0], 1), i)  #train.shape[0] is 2000\n",
        "    trainarray = np.concatenate((labelarray, trainarray), axis=1)\n",
        "    train_grand.append(trainarray)\n",
        "    \n",
        "#less memory than np.concatenate\n",
        "train_grand = np.array([train_grand.pop() for i in np.arange(num_classes)]) #pop for each classes\n",
        "#reshape to 64*64 to put in CNN\n",
        "train_grand = train_grand.reshape((-1, (imheight*imwidth+1)))\n",
        "\n",
        "del trainarray\n",
        "del train\n"
      ],
      "execution_count": 0,
      "outputs": []
    },
    {
      "cell_type": "markdown",
      "metadata": {
        "id": "ixb2SxN3xOz6",
        "colab_type": "text"
      },
      "source": [
        "## Validation Data Prepocessing"
      ]
    },
    {
      "cell_type": "code",
      "metadata": {
        "id": "0CM_w3iVx7QB",
        "colab_type": "code",
        "colab": {}
      },
      "source": [
        "np.random.shuffle(train_grand)\n",
        "y_train, X_train = train_grand[:, 0], train_grand[:, 1:]\n",
        "\n",
        "valid = pd.read_csv('./drive/My Drive/input/valid.csv',nrows = ims_per_class)\n",
        "imagebag = bag.from_sequence(valid.drawing.values).map(draw_it)\n",
        "validarray = np.array(imagebag.compute())\n",
        "validarray = np.reshape(validarray, (validarray.shape[0], imheight, imwidth, 1))\n",
        "\n",
        "X_val = validarray\n",
        "y_val = [namestonums[w.replace(\" \", \"_\") ] for w in valid.word]\n",
        "\n",
        "# del train_grand\n",
        "y_train = keras.utils.to_categorical(y_train, num_classes)\n",
        "X_train = X_train.reshape(X_train.shape[0], imheight, imwidth, 1)\n",
        "y_val = keras.utils.to_categorical(y_val, num_classes)\n",
        "X_val = X_val.reshape(X_val.shape[0], imheight, imwidth, 1)"
      ],
      "execution_count": 0,
      "outputs": []
    },
    {
      "cell_type": "markdown",
      "metadata": {
        "id": "i7pWJ2zyxIsB",
        "colab_type": "text"
      },
      "source": [
        "## Classifier Model"
      ]
    },
    {
      "cell_type": "code",
      "metadata": {
        "id": "XgnoTwUgpz1T",
        "colab_type": "code",
        "colab": {}
      },
      "source": [
        "model = Sequential()\n",
        "model.add(Conv2D(32, kernel_size=(3, 3), padding='same', activation='relu', input_shape=(imheight, imwidth, 1)))\n",
        "model.add(MaxPooling2D(pool_size=(2, 2)))\n",
        "model.add(Conv2D(64, kernel_size=(3, 3), padding='same', activation='relu'))\n",
        "model.add(MaxPooling2D(pool_size=(2, 2)))\n",
        "\n",
        "model.add(Conv2D(32, kernel_size=(3, 3), padding='same', activation='relu'))\n",
        "model.add(MaxPooling2D(pool_size=(2, 2)))\n",
        "\n",
        "model.add(Dropout(0.2))\n",
        "model.add(Flatten())\n",
        "model.add(Dense(680, activation='relu'))\n",
        "model.add(Dropout(0.5))\n",
        "model.add(Dense(num_classes, activation='softmax'))\n",
        "model.summary()"
      ],
      "execution_count": 0,
      "outputs": []
    },
    {
      "cell_type": "markdown",
      "metadata": {
        "id": "qXJrJRxsx0b1",
        "colab_type": "text"
      },
      "source": [
        "## Train Classifier"
      ]
    },
    {
      "cell_type": "code",
      "metadata": {
        "id": "x0A6yXL7zbYp",
        "colab_type": "code",
        "colab": {}
      },
      "source": [
        "import time\n",
        "starttime = time.time()\n",
        "\n",
        "reduceLROnPlat = ReduceLROnPlateau(monitor='val_loss', factor=0.5, patience=3, verbose=1, mode='auto', min_delta=0.005, cooldown=5, min_lr=0.0001)\n",
        "earlystop = EarlyStopping(monitor='val_top_3_accuracy', mode='max', patience=5) \n",
        "#callbacks = [reduceLROnPlat, earlystop]\n",
        "callbacks = [reduceLROnPlat]\n",
        "#0.002->0.001\n",
        "adam = keras.optimizers.Adam(lr=0.002, beta_1=0.9, beta_2=0.999, epsilon=None, decay=0.0, amsgrad=False)\n",
        "model.compile(loss='categorical_crossentropy',optimizer=adam, metrics=['accuracy', top_3_accuracy])\n",
        "model.fit(x=X_train, y=y_train, batch_size = 64, epochs = 15, validation_data = (X_val, y_val), shuffle=True, callbacks = callbacks, verbose = 1)\n",
        "\n",
        "model.save(\"./drive/My Drive/output/model/classifier.h5\")\n",
        "\n",
        "endtime = time.time()"
      ],
      "execution_count": 0,
      "outputs": []
    },
    {
      "cell_type": "markdown",
      "metadata": {
        "id": "737T-PfZx439",
        "colab_type": "text"
      },
      "source": [
        "## Test Classification Result"
      ]
    },
    {
      "cell_type": "code",
      "metadata": {
        "id": "FZN_-JY7zf7X",
        "colab_type": "code",
        "colab": {}
      },
      "source": [
        "test = pd.read_csv('./drive/My Drive/input/demo.csv')[['drawing']]\n",
        "imagebag = bag.from_sequence(test.drawing.values).map(draw_it)\n",
        "testarray = np.array(imagebag.compute())\n",
        "testarray = np.reshape(testarray, (testarray.shape[0], imheight, imwidth, 1))\n",
        "# model = load_model(\"./drive/My Drive/output/model/classifier.h5\")\n",
        "testpreds = model.predict(testarray, verbose=0)\n",
        "ttvs = np.argsort(-testpreds)\n",
        "for idx in ttvs[:,[0,1,2]]:\n",
        "    print(numstonames[idx[0]])\n",
        "    # print(numstonames[idx[1]])\n",
        "    # print(numstonames[idx[2]])\n",
        "    print('----------')"
      ],
      "execution_count": 0,
      "outputs": []
    },
    {
      "cell_type": "code",
      "metadata": {
        "id": "v2OVPUTBzlvG",
        "colab_type": "code",
        "colab": {}
      },
      "source": [
        "graph = pd.read_csv('./drive/My Drive/AI/input/output.csv',header=None)\n",
        "grapharray = np.array(graph)\n",
        "grapharray = np.where(grapharray[:] > 0.2,1,0)\n",
        "grapharray = np.reshape(grapharray, (1,imheight, imwidth, 1))\n",
        "graphpreds = model.predict(grapharray, verbose=0)\n",
        "gvs = np.argsort(-graphpreds)\n",
        "for idx in gvs[:]:\n",
        "    for i in idx:\n",
        "        print(numstonames[i])"
      ],
      "execution_count": 0,
      "outputs": []
    },
    {
      "cell_type": "markdown",
      "metadata": {
        "id": "pboWGgnUyHtn",
        "colab_type": "text"
      },
      "source": [
        "## Testing Case\n"
      ]
    },
    {
      "cell_type": "markdown",
      "metadata": {
        "id": "ZP2Z3zlmFnlt",
        "colab_type": "text"
      },
      "source": [
        "## Check Image"
      ]
    },
    {
      "cell_type": "code",
      "metadata": {
        "id": "0994QLaxFmPC",
        "colab_type": "code",
        "colab": {}
      },
      "source": [
        "test_raw = pd.read_csv('./drive/My Drive/input/test.csv')\n",
        "first_ids = test_raw.iloc[:].index\n",
        "images = [ast.literal_eval(lst) for lst in test_raw.loc[first_ids, 'drawing'].values]\n",
        "for index, drawing in enumerate(images, 0):\n",
        "    \n",
        "    plt.figure(figsize=(6,3))\n",
        "    for x,y in drawing:\n",
        "        plt.subplot(1,2,1)\n",
        "        plt.plot(x, y, marker='.')\n",
        "        plt.axis('on')\n",
        "\n",
        "\n",
        "    plt.gca().invert_yaxis()\n",
        "    plt.axis('equal')\n",
        "    plt.show()  "
      ],
      "execution_count": 0,
      "outputs": []
    },
    {
      "cell_type": "code",
      "metadata": {
        "id": "iXagb4k2tJSB",
        "colab_type": "code",
        "colab": {}
      },
      "source": [
        "#test\n",
        "test = pd.read_csv('./drive/My Drive/input/test.csv')[['drawing']]\n",
        "imagebag = bag.from_sequence(test.drawing.values).map(draw_it)\n",
        "testarray = np.array(imagebag.compute())\n",
        "testarray = np.reshape(testarray, (testarray.shape[0], imheight, imwidth, 1))\n",
        "# model = load_model(\"./drive/My Drive/output/model/classifier.h5\")\n",
        "testpreds = model.predict(testarray, verbose=0)\n",
        "ttvs = np.argsort(-testpreds)\n",
        "\n",
        "for idx in ttvs[:,[0,1,2]]:\n",
        "    print(numstonames[idx[0]])\n",
        "    # print(numstonames[idx[1]])\n",
        "    # print(numstonames[idx[2]])\n",
        "    # print('----------')\n",
        "\n",
        "predict_label = [numstonames[ttvs[i][0]] for i in range(ttvs.shape[0])]\n",
        "test['word'] = predict_label\n",
        "test.to_csv('./drive/My Drive/output/output.csv')\n"
      ],
      "execution_count": 0,
      "outputs": []
    },
    {
      "cell_type": "code",
      "metadata": {
        "id": "8ksSKwWfz4-Z",
        "colab_type": "code",
        "colab": {}
      },
      "source": [
        "test_ans = pd.read_csv('./drive/My Drive/input/test_ans.csv',index_col=0)\n",
        "# print(test_ans['word'])"
      ],
      "execution_count": 0,
      "outputs": []
    },
    {
      "cell_type": "code",
      "metadata": {
        "id": "veMnPZ35z5zE",
        "colab_type": "code",
        "colab": {}
      },
      "source": [
        "# Compare\n",
        "correct_count =0\n",
        "test_count = 0\n",
        "for idx in range(41):\n",
        "  if(test_ans['word'][idx] == test['word'][idx].replace(\"_\",\" \")):correct_count+=1\n",
        "  else: print(test_ans['word'][idx] + \" \" + test['word'][idx])\n",
        "  test_count = test_count + 1\n",
        "\n",
        "print(correct_count)\n",
        "print(correct_count/test_count);"
      ],
      "execution_count": 0,
      "outputs": []
    },
    {
      "cell_type": "markdown",
      "metadata": {
        "id": "oLWqkXkVziDy",
        "colab_type": "text"
      },
      "source": [
        "## Load Classifier Model\n"
      ]
    },
    {
      "cell_type": "code",
      "metadata": {
        "id": "ZL79R-lpzmyk",
        "colab_type": "code",
        "colab": {}
      },
      "source": [
        "model = keras.models.load_model(model_path, custom_objects={'top_3_accuracy': top_3_accuracy})"
      ],
      "execution_count": 0,
      "outputs": []
    },
    {
      "cell_type": "markdown",
      "metadata": {
        "id": "3GziE8oApp6e",
        "colab_type": "text"
      },
      "source": [
        "## Check csv & image\n"
      ]
    },
    {
      "cell_type": "code",
      "metadata": {
        "id": "LZZXlvAN4J4b",
        "colab_type": "code",
        "colab": {}
      },
      "source": [
        "image_label = \"key\"\n",
        "image_path = image_dir + image_label + \"/\" + image_label+\"_0002.png\"\n",
        "im = Image.open(image_path)\n",
        "image_csv = pd.read_csv(csv_dir + image_label + \"/\" + image_label + \"_0001.csv\", skiprows=0, header=None, engine='python')\n",
        "# print(image_csv)\n",
        "image_csv = np.array(image_csv)\n",
        "# print(image_csv.shape)\n",
        "\n",
        "im = im.resize((64,64), Image.BILINEAR )\n",
        "plt.imshow(im, interpolation='nearest', cmap='gray_r')\n",
        "\n",
        "grapharray = image_csv\n",
        "# grapharray = np.array(gray_image)\n",
        "# for j in range(64):\n",
        "#   for k in range(64):\n",
        "#     if grapharray[j][k] < 0.2 : grapharray[j][k] = 0.\n",
        "#     else: grapharray[j][k] = 1.\n",
        "grapharray = grapharray.reshape(1,64,64,1)\n",
        "graphpreds = model.predict(grapharray, verbose=0)\n",
        "predict_labels = np.argsort(-graphpreds)\n",
        "for idx in predict_labels[:]:\n",
        "  print(numstonames[idx[0]], numstonames[idx[1]], numstonames[idx[2]])\n",
        "\n"
      ],
      "execution_count": 0,
      "outputs": []
    },
    {
      "cell_type": "markdown",
      "metadata": {
        "id": "36Mu6dO_pxus",
        "colab_type": "text"
      },
      "source": [
        "\n",
        "## Check Generator"
      ]
    },
    {
      "cell_type": "code",
      "metadata": {
        "id": "-lIhxKs2w9Z2",
        "colab_type": "code",
        "colab": {}
      },
      "source": [
        "image_label = \"key\"\n",
        "img_h, img_w = 64, 64\n",
        "num_examples = 100\n",
        "latent_dim = 100\n",
        "correct_count = 0\n",
        "save_index = 0\n",
        "\n",
        "gen_model = keras.models.load_model(\"drive/My Drive/output/model/generator/\"+image_label+ \"_generator.h5\")\n",
        "correct_label = image_label.replace(\" \", \"_\")\n",
        "print(correct_label)\n",
        "random_noise = np.random.normal(0, 1, size=[num_examples, latent_dim])\n",
        "generator_predictions = gen_model.predict(random_noise)\n",
        "generator_predictions = generator_predictions.reshape(num_examples, img_h, img_w)\n",
        "\n",
        "plt.figure(figsize=(10, 10))\n",
        "for i in range(generator_predictions.shape[0]):\n",
        "    plt.subplot(10, 10, i+1)\n",
        "    plt.imshow(generator_predictions[i], interpolation='nearest', cmap='gray')\n",
        "    grapharray = generator_predictions[i]\n",
        "    #Prepocessing\n",
        "    for j in range(64):\n",
        "        for k in range(64):\n",
        "            if grapharray[j][k] < 0.2 : grapharray[j][k] = 1.\n",
        "            else: grapharray[j][k] = 0.\n",
        "\n",
        "    grapharray = np.reshape(grapharray, (1, 64, 64, 1))\n",
        "    graphpreds = model.predict(grapharray, verbose=0)\n",
        "    gvs = np.argsort(-graphpreds)\n",
        "    for idx in gvs[:]:\n",
        "        print(numstonames[idx[0]], numstonames[idx[1]], numstonames[idx[2]])\n",
        "        if numstonames[idx[0]] == correct_label : \n",
        "          correct_count = correct_count + 1\n",
        "          save_index = save_index + 1\n",
        "          # save_images(grapharray, save_index)\n",
        "    plt.axis('off')\n",
        "print(\"Accuracy = \", correct_count / num_examples)\n",
        "plt.suptitle(\"Samples\")\n",
        "plt.show()\n"
      ],
      "execution_count": 0,
      "outputs": []
    },
    {
      "cell_type": "code",
      "metadata": {
        "id": "VS_afVGfJrDM",
        "colab_type": "code",
        "colab": {}
      },
      "source": [
        ""
      ],
      "execution_count": 0,
      "outputs": []
    }
  ]
}